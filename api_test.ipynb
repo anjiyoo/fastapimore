{
 "cells": [
  {
   "cell_type": "code",
   "execution_count": 5,
   "metadata": {},
   "outputs": [],
   "source": [
    "import requests"
   ]
  },
  {
   "cell_type": "code",
   "execution_count": 8,
   "metadata": {},
   "outputs": [
    {
     "name": "stdout",
     "output_type": "stream",
     "text": [
      "이미지가 성공적으로 처리되어 'response_image.png'로 저장되었습니다.\n"
     ]
    }
   ],
   "source": [
    "url = 'http://127.0.0.1:8000/upload/'  # FastAPI 서버 URL 및 엔드포인트\n",
    "# files = {'file': open('a.jpg', 'rb')}  # 파일 열기\n",
    "files = {'file': ('dinosaur.jpeg', open('dinosaur.jpeg', 'rb'), 'image/jpeg')}  # Content-Type 명시\n",
    "\n",
    "response = requests.post(url, files=files)  # POST 요청 보내기\n",
    "\n",
    "if response.status_code == 200:\n",
    "    with open('response_image.png', 'wb') as f:\n",
    "        f.write(response.content)  # 받은 이미지 저장\n",
    "    print(\"이미지가 성공적으로 처리되어 'response_image.png'로 저장되었습니다.\")\n",
    "else:\n",
    "    print(\"에러:\", response.status_code, response.text)"
   ]
  },
  {
   "cell_type": "markdown",
   "metadata": {},
   "source": [
    "## 머신러닝 개발"
   ]
  },
  {
   "cell_type": "code",
   "execution_count": 9,
   "metadata": {},
   "outputs": [],
   "source": [
    "from sklearn.datasets import load_iris\n",
    "from sklearn.model_selection import train_test_split\n",
    "from sklearn.ensemble import RandomForestClassifier\n",
    "import pickle\n",
    "\n",
    "# 데이터 로드\n",
    "data = load_iris()\n",
    "X = data.data\n",
    "y = data.target\n",
    "\n",
    "# 데이터 분할\n",
    "X_train, X_test, y_train, y_test = train_test_split(X, y, test_size=0.2, random_state=42)\n",
    "\n",
    "# 모델 훈련\n",
    "model = RandomForestClassifier()\n",
    "model.fit(X_train, y_train)\n",
    "\n",
    "# 모델 저장\n",
    "with open(\"iris_model.pkl\", \"wb\") as f:\n",
    "    pickle.dump(model, f)\n"
   ]
  }
 ],
 "metadata": {
  "kernelspec": {
   "display_name": "fastapi",
   "language": "python",
   "name": "python3"
  },
  "language_info": {
   "codemirror_mode": {
    "name": "ipython",
    "version": 3
   },
   "file_extension": ".py",
   "mimetype": "text/x-python",
   "name": "python",
   "nbconvert_exporter": "python",
   "pygments_lexer": "ipython3",
   "version": "3.10.14"
  }
 },
 "nbformat": 4,
 "nbformat_minor": 2
}
